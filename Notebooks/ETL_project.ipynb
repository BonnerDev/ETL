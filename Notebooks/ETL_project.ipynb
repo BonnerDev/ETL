{
 "cells": [
  {
   "cell_type": "code",
   "execution_count": 1,
   "metadata": {},
   "outputs": [],
   "source": [
    "# Dependancies\n",
    "import pandas as pd\n",
    "import datetime\n",
    "\n",
    "# Import data sources   \n",
    "traffic_data = \"../Resources/Historic_Incidents_2016_2017.csv\"\n",
    "rain_data = \"../Resources/IDCJAC0009_009225_2017_Rainfall.csv\"\n",
    "temp_data = \"../Resources/IDCJAC0010_009225_2017_Temp.csv\""
   ]
  },
  {
   "cell_type": "code",
   "execution_count": 2,
   "metadata": {},
   "outputs": [],
   "source": [
    "# Read in traffic data\n",
    "data_df=pd.read_csv(traffic_data)"
   ]
  },
  {
   "cell_type": "code",
   "execution_count": 3,
   "metadata": {
    "tags": []
   },
   "outputs": [],
   "source": [
    "# Filter to Metro only\n",
    "data_df = data_df.loc[data_df[\"Operations_Centre\"]==\"Metro\"]"
   ]
  },
  {
   "cell_type": "code",
   "execution_count": 4,
   "metadata": {
    "scrolled": true
   },
   "outputs": [],
   "source": [
    "# Remove other columns\n",
    "new_data = data_df[[\"WST_Start\",\"Incident_Type\",\"TrafficCondition\",\"Lat\",\"Long\"]]\n"
   ]
  },
  {
   "cell_type": "code",
   "execution_count": 5,
   "metadata": {
    "tags": []
   },
   "outputs": [],
   "source": [
    "# Filter to selected timerange (01/12 - 31/12)\n",
    "date_df = new_data.loc[(new_data['WST_Start'] > \"2017/01/01\") & (new_data['WST_Start'] <= \"2017/12/31\")]\n",
    "\n",
    "# Split Time of Incident into Date + Time\n",
    "date_df[['Date','Time']] = date_df[\"WST_Start\"].str.split(\" \",expand=True)\n",
    "\n",
    "# Convert Date to datetime object for merge\n",
    "date_df[\"Date\"] = pd.to_datetime(date_df[\"Date\"])\n"
   ]
  },
  {
   "cell_type": "code",
   "execution_count": 6,
   "metadata": {},
   "outputs": [],
   "source": [
    "# Reorder Columns for database\n",
    "date_df = date_df[[\"Date\",\"Time\",\"Incident_Type\",\"TrafficCondition\",\"Lat\",\"Long\"]]\n",
    "\n",
    "# Rename Columns for datebase\n",
    "traffic_df = date_df.rename(columns={\"Date\":\"date\",\"Time\":\"time\",\"Incident_Type\":\"type\",\"TrafficCondition\":\"conditions\",\"Lat\":\"lat\",\"Long\":\"long\"})"
   ]
  },
  {
   "cell_type": "code",
   "execution_count": 7,
   "metadata": {},
   "outputs": [],
   "source": [
    "# Import and clean rainfall Data\n",
    "rain_df = pd.read_csv(rain_data)\n",
    "\n",
    "# remove columns\n",
    "weather_df = rain_df[[\"Year\", \"Month\", \"Day\", \"Rainfall amount (millimetres)\"]]"
   ]
  },
  {
   "cell_type": "code",
   "execution_count": 8,
   "metadata": {},
   "outputs": [],
   "source": [
    "# import Temperature Data\n",
    "temp_df = pd.read_csv(temp_data)"
   ]
  },
  {
   "cell_type": "code",
   "execution_count": 9,
   "metadata": {},
   "outputs": [],
   "source": [
    "# Merge Rain and Temp into one df\n",
    "weather_df[\"Maximum temperature (Degree C)\"] = temp_df[\"Maximum temperature (Degree C)\"]"
   ]
  },
  {
   "cell_type": "code",
   "execution_count": 10,
   "metadata": {},
   "outputs": [],
   "source": [
    "# Combine Time columns into one Date object\n",
    "weather_df[\"Date\"] = pd.to_datetime(weather_df[['Year','Month','Day']])"
   ]
  },
  {
   "cell_type": "code",
   "execution_count": 11,
   "metadata": {},
   "outputs": [],
   "source": [
    "# Reorder columns for database\n",
    "weather_df = weather_df[[\"Date\",\"Rainfall amount (millimetres)\",\"Maximum temperature (Degree C)\"]]\n",
    "\n",
    "# Rename columns for database\n",
    "weather_df = weather_df.rename(columns={\"Date\":\"date\",\"Rainfall amount (millimetres)\":\"rainfall\",\"Maximum temperature (Degree C)\":\"temperature\"})"
   ]
  },
  {
   "cell_type": "code",
   "execution_count": 12,
   "metadata": {},
   "outputs": [
    {
     "output_type": "execute_result",
     "data": {
      "text/plain": "          date  rainfall  temperature\n0   2017-01-01       0.0         31.3\n1   2017-01-02       0.0         37.1\n2   2017-01-03       0.0         40.0\n3   2017-01-04       0.0         40.9\n4   2017-01-05       0.0         24.9\n..         ...       ...          ...\n360 2017-12-27       0.0         25.2\n361 2017-12-28       0.0         25.8\n362 2017-12-29       0.0         28.3\n363 2017-12-30       0.0         34.7\n364 2017-12-31       0.0         32.0\n\n[365 rows x 3 columns]",
      "text/html": "<div>\n<style scoped>\n    .dataframe tbody tr th:only-of-type {\n        vertical-align: middle;\n    }\n\n    .dataframe tbody tr th {\n        vertical-align: top;\n    }\n\n    .dataframe thead th {\n        text-align: right;\n    }\n</style>\n<table border=\"1\" class=\"dataframe\">\n  <thead>\n    <tr style=\"text-align: right;\">\n      <th></th>\n      <th>date</th>\n      <th>rainfall</th>\n      <th>temperature</th>\n    </tr>\n  </thead>\n  <tbody>\n    <tr>\n      <th>0</th>\n      <td>2017-01-01</td>\n      <td>0.0</td>\n      <td>31.3</td>\n    </tr>\n    <tr>\n      <th>1</th>\n      <td>2017-01-02</td>\n      <td>0.0</td>\n      <td>37.1</td>\n    </tr>\n    <tr>\n      <th>2</th>\n      <td>2017-01-03</td>\n      <td>0.0</td>\n      <td>40.0</td>\n    </tr>\n    <tr>\n      <th>3</th>\n      <td>2017-01-04</td>\n      <td>0.0</td>\n      <td>40.9</td>\n    </tr>\n    <tr>\n      <th>4</th>\n      <td>2017-01-05</td>\n      <td>0.0</td>\n      <td>24.9</td>\n    </tr>\n    <tr>\n      <th>...</th>\n      <td>...</td>\n      <td>...</td>\n      <td>...</td>\n    </tr>\n    <tr>\n      <th>360</th>\n      <td>2017-12-27</td>\n      <td>0.0</td>\n      <td>25.2</td>\n    </tr>\n    <tr>\n      <th>361</th>\n      <td>2017-12-28</td>\n      <td>0.0</td>\n      <td>25.8</td>\n    </tr>\n    <tr>\n      <th>362</th>\n      <td>2017-12-29</td>\n      <td>0.0</td>\n      <td>28.3</td>\n    </tr>\n    <tr>\n      <th>363</th>\n      <td>2017-12-30</td>\n      <td>0.0</td>\n      <td>34.7</td>\n    </tr>\n    <tr>\n      <th>364</th>\n      <td>2017-12-31</td>\n      <td>0.0</td>\n      <td>32.0</td>\n    </tr>\n  </tbody>\n</table>\n<p>365 rows × 3 columns</p>\n</div>"
     },
     "metadata": {},
     "execution_count": 12
    }
   ],
   "source": [
    "weather_df"
   ]
  },
  {
   "cell_type": "code",
   "execution_count": 13,
   "metadata": {},
   "outputs": [
    {
     "output_type": "execute_result",
     "data": {
      "text/plain": "            date      time                         type  \\\n0     2017-01-01  16:59:00                   Road Crash   \n2     2017-01-02  04:50:59                   Road Crash   \n3     2017-01-02  07:30:00                   Road Crash   \n4     2017-01-02  08:16:59                   Road Crash   \n5     2017-01-02  12:13:00  Debris / Trees / Lost Loads   \n...          ...       ...                          ...   \n7992  2017-12-30  20:03:59                   Road Crash   \n7993  2017-12-30  23:23:00        Break Down / Tow Away   \n11391 2017-01-06  14:35:00        Break Down / Tow Away   \n11392 2017-01-06  15:24:59              Duplicate Entry   \n11393 2017-01-06  15:24:59              Duplicate Entry   \n\n                         conditions        lat        long  \n0                    All Lanes Open -32.065714  115.894297  \n2                    All Lanes Open -31.674911  115.711201  \n3                    All Lanes Open -31.936552  115.838520  \n4                    All Lanes Open -31.892157  116.015323  \n5      Right Centre Lane(s) Blocked -31.936639  115.838076  \n...                             ...        ...         ...  \n7992          Right Lane(s) Blocked -31.949386  115.871415  \n7993   Right Emergency Lane Blocked -31.927353  115.831052  \n11391                           NaN -31.949682  115.849312  \n11392                           NaN -31.940631  116.015960  \n11393                           NaN -31.940631  116.015960  \n\n[6995 rows x 6 columns]",
      "text/html": "<div>\n<style scoped>\n    .dataframe tbody tr th:only-of-type {\n        vertical-align: middle;\n    }\n\n    .dataframe tbody tr th {\n        vertical-align: top;\n    }\n\n    .dataframe thead th {\n        text-align: right;\n    }\n</style>\n<table border=\"1\" class=\"dataframe\">\n  <thead>\n    <tr style=\"text-align: right;\">\n      <th></th>\n      <th>date</th>\n      <th>time</th>\n      <th>type</th>\n      <th>conditions</th>\n      <th>lat</th>\n      <th>long</th>\n    </tr>\n  </thead>\n  <tbody>\n    <tr>\n      <th>0</th>\n      <td>2017-01-01</td>\n      <td>16:59:00</td>\n      <td>Road Crash</td>\n      <td>All Lanes Open</td>\n      <td>-32.065714</td>\n      <td>115.894297</td>\n    </tr>\n    <tr>\n      <th>2</th>\n      <td>2017-01-02</td>\n      <td>04:50:59</td>\n      <td>Road Crash</td>\n      <td>All Lanes Open</td>\n      <td>-31.674911</td>\n      <td>115.711201</td>\n    </tr>\n    <tr>\n      <th>3</th>\n      <td>2017-01-02</td>\n      <td>07:30:00</td>\n      <td>Road Crash</td>\n      <td>All Lanes Open</td>\n      <td>-31.936552</td>\n      <td>115.838520</td>\n    </tr>\n    <tr>\n      <th>4</th>\n      <td>2017-01-02</td>\n      <td>08:16:59</td>\n      <td>Road Crash</td>\n      <td>All Lanes Open</td>\n      <td>-31.892157</td>\n      <td>116.015323</td>\n    </tr>\n    <tr>\n      <th>5</th>\n      <td>2017-01-02</td>\n      <td>12:13:00</td>\n      <td>Debris / Trees / Lost Loads</td>\n      <td>Right Centre Lane(s) Blocked</td>\n      <td>-31.936639</td>\n      <td>115.838076</td>\n    </tr>\n    <tr>\n      <th>...</th>\n      <td>...</td>\n      <td>...</td>\n      <td>...</td>\n      <td>...</td>\n      <td>...</td>\n      <td>...</td>\n    </tr>\n    <tr>\n      <th>7992</th>\n      <td>2017-12-30</td>\n      <td>20:03:59</td>\n      <td>Road Crash</td>\n      <td>Right Lane(s) Blocked</td>\n      <td>-31.949386</td>\n      <td>115.871415</td>\n    </tr>\n    <tr>\n      <th>7993</th>\n      <td>2017-12-30</td>\n      <td>23:23:00</td>\n      <td>Break Down / Tow Away</td>\n      <td>Right Emergency Lane Blocked</td>\n      <td>-31.927353</td>\n      <td>115.831052</td>\n    </tr>\n    <tr>\n      <th>11391</th>\n      <td>2017-01-06</td>\n      <td>14:35:00</td>\n      <td>Break Down / Tow Away</td>\n      <td>NaN</td>\n      <td>-31.949682</td>\n      <td>115.849312</td>\n    </tr>\n    <tr>\n      <th>11392</th>\n      <td>2017-01-06</td>\n      <td>15:24:59</td>\n      <td>Duplicate Entry</td>\n      <td>NaN</td>\n      <td>-31.940631</td>\n      <td>116.015960</td>\n    </tr>\n    <tr>\n      <th>11393</th>\n      <td>2017-01-06</td>\n      <td>15:24:59</td>\n      <td>Duplicate Entry</td>\n      <td>NaN</td>\n      <td>-31.940631</td>\n      <td>116.015960</td>\n    </tr>\n  </tbody>\n</table>\n<p>6995 rows × 6 columns</p>\n</div>"
     },
     "metadata": {},
     "execution_count": 13
    }
   ],
   "source": [
    "traffic_df"
   ]
  },
  {
   "cell_type": "code",
   "execution_count": null,
   "metadata": {},
   "outputs": [],
   "source": []
  }
 ],
 "metadata": {
  "kernelspec": {
   "display_name": "Python 3",
   "language": "python",
   "name": "python3"
  },
  "language_info": {
   "codemirror_mode": {
    "name": "ipython",
    "version": 3
   },
   "file_extension": ".py",
   "mimetype": "text/x-python",
   "name": "python",
   "nbconvert_exporter": "python",
   "pygments_lexer": "ipython3",
   "version": "3.8.3-final"
  }
 },
 "nbformat": 4,
 "nbformat_minor": 4
}