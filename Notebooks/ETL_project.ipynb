{
 "cells": [
  {
   "cell_type": "markdown",
   "metadata": {},
   "source": [
    "# Project Report"
   ]
  },
  {
   "cell_type": "markdown",
   "metadata": {},
   "source": [
    "**Summary**\n",
    "Our proposal was to collect data for weather and traffic conditions in the Perth Metro region for the week of 25th to 31st of December 2017 using the 5 nearest weather stations.\n",
    "Our original data source DPIRD turned out to be too convoluted to be able to extract the data so we used the Bureau of Meteorology data instead. We also decided to instead use the full year of \n",
    "2017 to get a bigger dataset for analysis.\n",
    "This collated information could then be used for further analysis if required. \n",
    "\n",
    "\n",
    "**Data Sources**\n",
    "Mainroads open data - \"Historic Incidents\"\n",
    "BOM.wa.gov.au - \"Climate data online\"\n",
    "\n",
    "**Analysis**\n",
    "Mainroads data was formatted in a csv file which we then transformed and cleaned up in pandas, we reduced the columns from 18 down to 8. We needed to have a date column so that we could \n",
    "aggregate the weather data and find the nearest weather station to the incident, further analysis could then be carried out to see if the weather may have been a factor. \n",
    "\n",
    "**The columns we used for the transformed data are:**\n",
    "\n",
    "| Date       | Time     | Type       | Conditions     | Lat        | Long       | Rainfall | Temperature |\n",
    "|------------|----------|------------|----------------|------------|------------|----------|-------------|\n",
    "| 2017-01-01 | 16:59:00 | Road Crash | All Lanes Open | -32.065714 | 115.894297 | 0.0      | 31.3        |\n",
    "\n",
    "\n",
    "1. start of incident \"date\", this tells us when the incident is first reported. We needed to split this column as it had timestamp on it also - to be able to join to the weather data.  \n",
    "&nbsp;\n",
    "2. \"time\", this tells us the time of day the incident took place.  \n",
    "&nbsp;\n",
    "3. the incident \"type\", this tells us if it was a bushfire, crash, breakdown and so on.  \n",
    "&nbsp;\n",
    "4. Traffic \"conditions\", this tell us if it caused any lanes to be closed on the road the incident happened.  \n",
    "&nbsp;\n",
    "5. Latitude & Longitude, these two we kept in the data frame so that we could aggregate the weather data and find the closest weather station to the incident. However we did not end up using this column, but for further analyiss this could be used for mapping.  \n",
    "&nbsp;\n",
    "6. \"Rainfall\" in mm, shows how much rainfall on the day.  \n",
    "&nbsp;\n",
    "7. Maximum \"Temperature\", shows us what the temperature was on the day.  \n",
    "&nbsp;\n",
    "\n",
    "**Database**\n",
    "used is sql lite as we ended up doing our data cleaning and merging in the notebook and did not have an overly complicated database."
   ]
  },
  {
   "cell_type": "code",
   "execution_count": 1,
   "metadata": {},
   "outputs": [],
   "source": [
    "# Dependancies\n",
    "import pandas as pd\n",
    "import datetime\n",
    "\n",
    "#use this as no error in VScode\n",
    "pd.options.mode.chained_assignment = None\n",
    "\n",
    "# Import data sources   \n",
    "traffic_data = \"../Resources/Historic_Incidents_2016_2017.csv\"\n",
    "rain_data = \"../Resources/IDCJAC0009_009225_2017_Rainfall.csv\"\n",
    "temp_data = \"../Resources/IDCJAC0010_009225_2017_Temp.csv\""
   ]
  },
  {
   "cell_type": "markdown",
   "metadata": {},
   "source": [
    "# Extraction"
   ]
  },
  {
   "cell_type": "code",
   "execution_count": 2,
   "metadata": {},
   "outputs": [],
   "source": [
    "# Read in traffic data\n",
    "data_df=pd.read_csv(traffic_data)"
   ]
  },
  {
   "cell_type": "code",
   "execution_count": 3,
   "metadata": {},
   "outputs": [],
   "source": [
    "# import Temperature Data\n",
    "temp_df = pd.read_csv(temp_data)"
   ]
  },
  {
   "cell_type": "code",
   "execution_count": 4,
   "metadata": {},
   "outputs": [],
   "source": [
    "# Import and clean rainfall Data\n",
    "rain_df = pd.read_csv(rain_data)"
   ]
  },
  {
   "cell_type": "markdown",
   "metadata": {},
   "source": [
    "# Tranformation"
   ]
  },
  {
   "cell_type": "code",
   "execution_count": 5,
   "metadata": {
    "tags": []
   },
   "outputs": [],
   "source": [
    "# Filter to Metro only\n",
    "data_df = data_df.loc[data_df[\"Operations_Centre\"]==\"Metro\"]"
   ]
  },
  {
   "cell_type": "code",
   "execution_count": 6,
   "metadata": {
    "scrolled": true
   },
   "outputs": [],
   "source": [
    "# Remove other columns\n",
    "new_data = data_df[[\"WST_Start\",\"Incident_Type\",\"TrafficCondition\",\"Lat\",\"Long\"]]\n"
   ]
  },
  {
   "cell_type": "code",
   "execution_count": 7,
   "metadata": {
    "tags": []
   },
   "outputs": [],
   "source": [
    "# Filter to selected timerange (01/12 - 31/12)\n",
    "date_df = new_data.loc[(new_data['WST_Start'] > \"2017/01/01\") & (new_data['WST_Start'] <= \"2017/12/31\")]\n",
    "\n",
    "# Split Time of Incident into Date + Time\n",
    "date_df[['Date','Time']] = date_df[\"WST_Start\"].str.split(\" \",expand=True)\n",
    "\n",
    "# Convert Date to datetime object for merge\n",
    "date_df[\"Date\"] = date_df[\"Date\"].str.replace('/','-')\n"
   ]
  },
  {
   "cell_type": "code",
   "execution_count": 8,
   "metadata": {},
   "outputs": [],
   "source": [
    "# Reorder Columns for database\n",
    "date_df = date_df[[\"Date\",\"Time\",\"Incident_Type\",\"TrafficCondition\",\"Lat\",\"Long\"]]\n",
    "\n",
    "# Rename Columns for datebase\n",
    "traffic_df = date_df.rename(columns={\"Date\":\"date\",\"Time\":\"time\",\"Incident_Type\":\"type\",\"TrafficCondition\":\"conditions\",\"Lat\":\"lat\",\"Long\":\"long\"})"
   ]
  },
  {
   "cell_type": "code",
   "execution_count": 9,
   "metadata": {},
   "outputs": [],
   "source": [
    "# remove columns\n",
    "weather_df = rain_df[[\"Year\", \"Month\", \"Day\", \"Rainfall amount (millimetres)\"]]"
   ]
  },
  {
   "cell_type": "code",
   "execution_count": 10,
   "metadata": {
    "scrolled": true
   },
   "outputs": [],
   "source": [
    "# Merge Rain and Temp into one df\n",
    "weather_df[\"Maximum temperature (Degree C)\"] = temp_df[\"Maximum temperature (Degree C)\"]"
   ]
  },
  {
   "cell_type": "code",
   "execution_count": 11,
   "metadata": {},
   "outputs": [],
   "source": [
    "# Combine Time columns into one Date object\n",
    "weather_df[\"Date\"] = pd.to_datetime(weather_df[['Year','Month','Day']])"
   ]
  },
  {
   "cell_type": "code",
   "execution_count": 12,
   "metadata": {},
   "outputs": [],
   "source": [
    "# Reorder columns for database\n",
    "weather_df = weather_df[[\"Date\",\"Rainfall amount (millimetres)\",\"Maximum temperature (Degree C)\"]]\n",
    "\n",
    "# Rename columns for database\n",
    "weather_df = weather_df.rename(columns={\"Date\":\"date\",\"Rainfall amount (millimetres)\":\"rainfall\",\"Maximum temperature (Degree C)\":\"temperature\"})\n"
   ]
  },
  {
   "cell_type": "code",
   "execution_count": 13,
   "metadata": {},
   "outputs": [],
   "source": [
    "#convert back to datetime string\n",
    "weather_df['date'] = weather_df['date'].dt.date"
   ]
  },
  {
   "cell_type": "code",
   "execution_count": 14,
   "metadata": {},
   "outputs": [],
   "source": [
    "#this is the merged rainfall table and temperature table: set index for database\n",
    "weather_df = weather_df.set_index(\"date\")"
   ]
  },
  {
   "cell_type": "code",
   "execution_count": 15,
   "metadata": {},
   "outputs": [],
   "source": [
    "# Reset index for traffic data + add id column\n",
    "traffic_df = traffic_df.reset_index(drop=True)\n",
    "\n",
    "#set new index for unique id\n",
    "traffic_df[\"id\"] = traffic_df.index +1\n",
    "\n",
    "traffic_df = traffic_df.set_index('id')"
   ]
  },
  {
   "cell_type": "code",
   "execution_count": 16,
   "metadata": {},
   "outputs": [
    {
     "output_type": "execute_result",
     "data": {
      "text/plain": "            rainfall  temperature\ndate                             \n2017-01-01       0.0         31.3\n2017-01-02       0.0         37.1\n2017-01-03       0.0         40.0\n2017-01-04       0.0         40.9\n2017-01-05       0.0         24.9\n...              ...          ...\n2017-12-27       0.0         25.2\n2017-12-28       0.0         25.8\n2017-12-29       0.0         28.3\n2017-12-30       0.0         34.7\n2017-12-31       0.0         32.0\n\n[365 rows x 2 columns]",
      "text/html": "<div>\n<style scoped>\n    .dataframe tbody tr th:only-of-type {\n        vertical-align: middle;\n    }\n\n    .dataframe tbody tr th {\n        vertical-align: top;\n    }\n\n    .dataframe thead th {\n        text-align: right;\n    }\n</style>\n<table border=\"1\" class=\"dataframe\">\n  <thead>\n    <tr style=\"text-align: right;\">\n      <th></th>\n      <th>rainfall</th>\n      <th>temperature</th>\n    </tr>\n    <tr>\n      <th>date</th>\n      <th></th>\n      <th></th>\n    </tr>\n  </thead>\n  <tbody>\n    <tr>\n      <th>2017-01-01</th>\n      <td>0.0</td>\n      <td>31.3</td>\n    </tr>\n    <tr>\n      <th>2017-01-02</th>\n      <td>0.0</td>\n      <td>37.1</td>\n    </tr>\n    <tr>\n      <th>2017-01-03</th>\n      <td>0.0</td>\n      <td>40.0</td>\n    </tr>\n    <tr>\n      <th>2017-01-04</th>\n      <td>0.0</td>\n      <td>40.9</td>\n    </tr>\n    <tr>\n      <th>2017-01-05</th>\n      <td>0.0</td>\n      <td>24.9</td>\n    </tr>\n    <tr>\n      <th>...</th>\n      <td>...</td>\n      <td>...</td>\n    </tr>\n    <tr>\n      <th>2017-12-27</th>\n      <td>0.0</td>\n      <td>25.2</td>\n    </tr>\n    <tr>\n      <th>2017-12-28</th>\n      <td>0.0</td>\n      <td>25.8</td>\n    </tr>\n    <tr>\n      <th>2017-12-29</th>\n      <td>0.0</td>\n      <td>28.3</td>\n    </tr>\n    <tr>\n      <th>2017-12-30</th>\n      <td>0.0</td>\n      <td>34.7</td>\n    </tr>\n    <tr>\n      <th>2017-12-31</th>\n      <td>0.0</td>\n      <td>32.0</td>\n    </tr>\n  </tbody>\n</table>\n<p>365 rows × 2 columns</p>\n</div>"
     },
     "metadata": {},
     "execution_count": 16
    }
   ],
   "source": [
    "weather_df"
   ]
  },
  {
   "cell_type": "code",
   "execution_count": 17,
   "metadata": {},
   "outputs": [
    {
     "output_type": "execute_result",
     "data": {
      "text/plain": "            date      time                         type  \\\nid                                                        \n1     2017-01-01  16:59:00                   Road Crash   \n2     2017-01-02  04:50:59                   Road Crash   \n3     2017-01-02  07:30:00                   Road Crash   \n4     2017-01-02  08:16:59                   Road Crash   \n5     2017-01-02  12:13:00  Debris / Trees / Lost Loads   \n...          ...       ...                          ...   \n6991  2017-12-30  20:03:59                   Road Crash   \n6992  2017-12-30  23:23:00        Break Down / Tow Away   \n6993  2017-01-06  14:35:00        Break Down / Tow Away   \n6994  2017-01-06  15:24:59              Duplicate Entry   \n6995  2017-01-06  15:24:59              Duplicate Entry   \n\n                        conditions        lat        long  \nid                                                         \n1                   All Lanes Open -32.065714  115.894297  \n2                   All Lanes Open -31.674911  115.711201  \n3                   All Lanes Open -31.936552  115.838520  \n4                   All Lanes Open -31.892157  116.015323  \n5     Right Centre Lane(s) Blocked -31.936639  115.838076  \n...                            ...        ...         ...  \n6991         Right Lane(s) Blocked -31.949386  115.871415  \n6992  Right Emergency Lane Blocked -31.927353  115.831052  \n6993                           NaN -31.949682  115.849312  \n6994                           NaN -31.940631  116.015960  \n6995                           NaN -31.940631  116.015960  \n\n[6995 rows x 6 columns]",
      "text/html": "<div>\n<style scoped>\n    .dataframe tbody tr th:only-of-type {\n        vertical-align: middle;\n    }\n\n    .dataframe tbody tr th {\n        vertical-align: top;\n    }\n\n    .dataframe thead th {\n        text-align: right;\n    }\n</style>\n<table border=\"1\" class=\"dataframe\">\n  <thead>\n    <tr style=\"text-align: right;\">\n      <th></th>\n      <th>date</th>\n      <th>time</th>\n      <th>type</th>\n      <th>conditions</th>\n      <th>lat</th>\n      <th>long</th>\n    </tr>\n    <tr>\n      <th>id</th>\n      <th></th>\n      <th></th>\n      <th></th>\n      <th></th>\n      <th></th>\n      <th></th>\n    </tr>\n  </thead>\n  <tbody>\n    <tr>\n      <th>1</th>\n      <td>2017-01-01</td>\n      <td>16:59:00</td>\n      <td>Road Crash</td>\n      <td>All Lanes Open</td>\n      <td>-32.065714</td>\n      <td>115.894297</td>\n    </tr>\n    <tr>\n      <th>2</th>\n      <td>2017-01-02</td>\n      <td>04:50:59</td>\n      <td>Road Crash</td>\n      <td>All Lanes Open</td>\n      <td>-31.674911</td>\n      <td>115.711201</td>\n    </tr>\n    <tr>\n      <th>3</th>\n      <td>2017-01-02</td>\n      <td>07:30:00</td>\n      <td>Road Crash</td>\n      <td>All Lanes Open</td>\n      <td>-31.936552</td>\n      <td>115.838520</td>\n    </tr>\n    <tr>\n      <th>4</th>\n      <td>2017-01-02</td>\n      <td>08:16:59</td>\n      <td>Road Crash</td>\n      <td>All Lanes Open</td>\n      <td>-31.892157</td>\n      <td>116.015323</td>\n    </tr>\n    <tr>\n      <th>5</th>\n      <td>2017-01-02</td>\n      <td>12:13:00</td>\n      <td>Debris / Trees / Lost Loads</td>\n      <td>Right Centre Lane(s) Blocked</td>\n      <td>-31.936639</td>\n      <td>115.838076</td>\n    </tr>\n    <tr>\n      <th>...</th>\n      <td>...</td>\n      <td>...</td>\n      <td>...</td>\n      <td>...</td>\n      <td>...</td>\n      <td>...</td>\n    </tr>\n    <tr>\n      <th>6991</th>\n      <td>2017-12-30</td>\n      <td>20:03:59</td>\n      <td>Road Crash</td>\n      <td>Right Lane(s) Blocked</td>\n      <td>-31.949386</td>\n      <td>115.871415</td>\n    </tr>\n    <tr>\n      <th>6992</th>\n      <td>2017-12-30</td>\n      <td>23:23:00</td>\n      <td>Break Down / Tow Away</td>\n      <td>Right Emergency Lane Blocked</td>\n      <td>-31.927353</td>\n      <td>115.831052</td>\n    </tr>\n    <tr>\n      <th>6993</th>\n      <td>2017-01-06</td>\n      <td>14:35:00</td>\n      <td>Break Down / Tow Away</td>\n      <td>NaN</td>\n      <td>-31.949682</td>\n      <td>115.849312</td>\n    </tr>\n    <tr>\n      <th>6994</th>\n      <td>2017-01-06</td>\n      <td>15:24:59</td>\n      <td>Duplicate Entry</td>\n      <td>NaN</td>\n      <td>-31.940631</td>\n      <td>116.015960</td>\n    </tr>\n    <tr>\n      <th>6995</th>\n      <td>2017-01-06</td>\n      <td>15:24:59</td>\n      <td>Duplicate Entry</td>\n      <td>NaN</td>\n      <td>-31.940631</td>\n      <td>116.015960</td>\n    </tr>\n  </tbody>\n</table>\n<p>6995 rows × 6 columns</p>\n</div>"
     },
     "metadata": {},
     "execution_count": 17
    }
   ],
   "source": [
    "traffic_df"
   ]
  },
  {
   "cell_type": "markdown",
   "metadata": {},
   "source": [
    "# Loading"
   ]
  },
  {
   "cell_type": "code",
   "execution_count": 18,
   "metadata": {},
   "outputs": [],
   "source": [
    "# Import SQL Alchemy\n",
    "# Import and establish Base for which classes will be constructed\n",
    "# Import modules to declare columns and column data types\n",
    "from sqlalchemy import create_engine\n",
    "from sqlalchemy.ext.declarative import declarative_base\n",
    "Base=declarative_base()\n",
    "from sqlalchemy import Column, Integer, String, Float"
   ]
  },
  {
   "cell_type": "code",
   "execution_count": 19,
   "metadata": {},
   "outputs": [],
   "source": [
    "#create class for weather table\n",
    "class weather(Base):\n",
    "    __tablename__ = \"weather\"\n",
    "    date = Column(String, primary_key=True)\n",
    "    rainfall = Column(Float)\n",
    "    temperature = Column(Float)"
   ]
  },
  {
   "cell_type": "code",
   "execution_count": 20,
   "metadata": {},
   "outputs": [],
   "source": [
    "#create class for incidents table\n",
    "class incidents(Base):\n",
    "    __tablename__=\"incidents\"\n",
    "    id = Column(Integer, primary_key=True)\n",
    "    date = Column(String)\n",
    "    time = Column(String)\n",
    "    type = Column(String)\n",
    "    conditions = Column(String)\n",
    "    lat = Column(Float)\n",
    "    long = Column(Float)"
   ]
  },
  {
   "cell_type": "code",
   "execution_count": 21,
   "metadata": {},
   "outputs": [],
   "source": [
    "engine = create_engine(\"sqlite:///ETL.sqlite\")\n",
    "conn = engine.connect()"
   ]
  },
  {
   "cell_type": "code",
   "execution_count": 22,
   "metadata": {},
   "outputs": [],
   "source": [
    "weather_df.to_sql('weather',con=conn,if_exists='replace')"
   ]
  },
  {
   "cell_type": "code",
   "execution_count": 23,
   "metadata": {},
   "outputs": [],
   "source": [
    "traffic_df.to_sql('incidents',con=conn,if_exists='replace')"
   ]
  },
  {
   "cell_type": "code",
   "execution_count": 24,
   "metadata": {},
   "outputs": [
    {
     "output_type": "execute_result",
     "data": {
      "text/plain": "[('2017-01-01', 0.0, 31.3),\n ('2017-01-02', 0.0, 37.1),\n ('2017-01-03', 0.0, 40.0)]"
     },
     "metadata": {},
     "execution_count": 24
    }
   ],
   "source": [
    "engine.execute(\"SELECT * FROM weather limit 3;\").fetchall()"
   ]
  },
  {
   "cell_type": "code",
   "execution_count": 25,
   "metadata": {},
   "outputs": [
    {
     "output_type": "execute_result",
     "data": {
      "text/plain": "[(1, '2017-01-01', '16:59:00', 'Road Crash', 'All Lanes Open', -32.0657141, 115.8942969),\n (2, '2017-01-02', '04:50:59', 'Road Crash', 'All Lanes Open', -31.67491075, 115.71120069999999),\n (3, '2017-01-02', '07:30:00', 'Road Crash', 'All Lanes Open', -31.93655151, 115.83852009999998)]"
     },
     "metadata": {},
     "execution_count": 25
    }
   ],
   "source": [
    "engine.execute(\"SELECT * FROM incidents limit 3;\").fetchall()"
   ]
  },
  {
   "cell_type": "code",
   "execution_count": null,
   "metadata": {},
   "outputs": [],
   "source": []
  }
 ],
 "metadata": {
  "kernelspec": {
   "display_name": "Python 3",
   "language": "python",
   "name": "python3"
  },
  "language_info": {
   "codemirror_mode": {
    "name": "ipython",
    "version": 3
   },
   "file_extension": ".py",
   "mimetype": "text/x-python",
   "name": "python",
   "nbconvert_exporter": "python",
   "pygments_lexer": "ipython3",
   "version": "3.8.3-final"
  }
 },
 "nbformat": 4,
 "nbformat_minor": 4
}