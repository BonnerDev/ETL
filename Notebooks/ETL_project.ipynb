{
 "cells": [
  {
   "cell_type": "code",
   "execution_count": 99,
   "metadata": {},
   "outputs": [],
   "source": [
    "# Dependancies\n",
    "import pandas as pd\n",
    "import datetime\n",
    "\n",
    "# Import Data Sources   \n",
    "traffic_data = \"../Resources/Historic_Incidents_2016_2017.csv\"\n",
    "rain_data = \"../Resources/IDCJAC0009_009225_2017_Rainfall.csv\"\n",
    "temp_data = \"../Resources/IDCJAC0010_009225_2017_Temp.csv\""
   ]
  },
  {
   "cell_type": "code",
   "execution_count": 100,
   "metadata": {},
   "outputs": [
    {
     "output_type": "execute_result",
     "data": {
      "text/plain": "            X          Y  FID     ID            WST_Start  \\\n0  115.894297 -32.065714    1  62397  2017/01/01 16:59:00   \n1  115.786788 -33.991912    2  62401  2017/01/01 18:24:59   \n2  115.711201 -31.674911    3  62408  2017/01/02 04:50:59   \n3  115.838520 -31.936552    4  62412  2017/01/02 07:30:00   \n4  116.015323 -31.892157    5  62418  2017/01/02 08:16:59   \n\n               WST_End            UTC_Start              UTC_END  \\\n0  2017/01/01 21:35:00  2017/01/01 08:58:59  2017/01/01 18:35:00   \n1  2017/01/12 11:12:00  2017/01/01 10:25:00  2017/01/12 08:12:00   \n2  2017/01/02 05:48:00  2017/01/01 20:51:00  2017/01/02 02:48:00   \n3  2017/01/02 08:29:59  2017/01/01 23:29:59  2017/01/02 05:29:59   \n4  2017/01/02 08:55:00  2017/01/02 00:17:00  2017/01/02 05:55:00   \n\n  Incident_Type                                        Description  \\\n0    Road Crash  Roe Hwy southbound South Street Canningvale  -...   \n1      Bushfire  Brockman Hwy both directions Brockman Rd East ...   \n2    Road Crash  Wanneroo Rd northbound  near Hester Av Neerabu...   \n3    Road Crash  Mitchell Fwy southbound Vincent St Leederville...   \n4    Road Crash  Great Eastern Hwy direction unknown Loton Av M...   \n\n                Road Operations_Centre  \\\n0            Roe Hwy             Metro   \n1       Brockman Hwy        South West   \n2        Wanneroo Rd             Metro   \n3       Mitchell Fwy             Metro   \n4  Great Eastern Hwy             Metro   \n\n                                            Location Local_Rd_Name  \\\n0  All Lanes Open.  No Known Congestion.  Inciden...           NaN   \n1  All Lanes Open.  No Known Congestion.  Inciden...           NaN   \n2  All Lanes Open.  No Known Congestion.  Inciden...           NaN   \n3  All Lanes Open.  No Known Congestion.  Inciden...           NaN   \n4  All Lanes Open.  No Known Congestion.  No Deto...           NaN   \n\n  TrafficCondition        Lat        Long  \\\n0   All Lanes Open -32.065714  115.894297   \n1   All Lanes Open -33.991912  115.786788   \n2   All Lanes Open -31.674911  115.711201   \n3   All Lanes Open -31.936552  115.838520   \n4   All Lanes Open -31.892157  116.015323   \n\n                                 GlobalID  \n0  {EC2D031A-9C1F-430C-95F6-39F4E01DCF60}  \n1  {7A443C5B-0C60-4A36-BBC9-0CA666A909F6}  \n2  {814E5E47-AF04-45FC-8372-0A47A2C82E60}  \n3  {E38AA494-D9A9-4901-9286-EE78AC27E5C4}  \n4  {0E716842-4B22-4EE7-AD9F-C3D7D2E0C6CC}  ",
      "text/html": "<div>\n<style scoped>\n    .dataframe tbody tr th:only-of-type {\n        vertical-align: middle;\n    }\n\n    .dataframe tbody tr th {\n        vertical-align: top;\n    }\n\n    .dataframe thead th {\n        text-align: right;\n    }\n</style>\n<table border=\"1\" class=\"dataframe\">\n  <thead>\n    <tr style=\"text-align: right;\">\n      <th></th>\n      <th>X</th>\n      <th>Y</th>\n      <th>FID</th>\n      <th>ID</th>\n      <th>WST_Start</th>\n      <th>WST_End</th>\n      <th>UTC_Start</th>\n      <th>UTC_END</th>\n      <th>Incident_Type</th>\n      <th>Description</th>\n      <th>Road</th>\n      <th>Operations_Centre</th>\n      <th>Location</th>\n      <th>Local_Rd_Name</th>\n      <th>TrafficCondition</th>\n      <th>Lat</th>\n      <th>Long</th>\n      <th>GlobalID</th>\n    </tr>\n  </thead>\n  <tbody>\n    <tr>\n      <th>0</th>\n      <td>115.894297</td>\n      <td>-32.065714</td>\n      <td>1</td>\n      <td>62397</td>\n      <td>2017/01/01 16:59:00</td>\n      <td>2017/01/01 21:35:00</td>\n      <td>2017/01/01 08:58:59</td>\n      <td>2017/01/01 18:35:00</td>\n      <td>Road Crash</td>\n      <td>Roe Hwy southbound South Street Canningvale  -...</td>\n      <td>Roe Hwy</td>\n      <td>Metro</td>\n      <td>All Lanes Open.  No Known Congestion.  Inciden...</td>\n      <td>NaN</td>\n      <td>All Lanes Open</td>\n      <td>-32.065714</td>\n      <td>115.894297</td>\n      <td>{EC2D031A-9C1F-430C-95F6-39F4E01DCF60}</td>\n    </tr>\n    <tr>\n      <th>1</th>\n      <td>115.786788</td>\n      <td>-33.991912</td>\n      <td>2</td>\n      <td>62401</td>\n      <td>2017/01/01 18:24:59</td>\n      <td>2017/01/12 11:12:00</td>\n      <td>2017/01/01 10:25:00</td>\n      <td>2017/01/12 08:12:00</td>\n      <td>Bushfire</td>\n      <td>Brockman Hwy both directions Brockman Rd East ...</td>\n      <td>Brockman Hwy</td>\n      <td>South West</td>\n      <td>All Lanes Open.  No Known Congestion.  Inciden...</td>\n      <td>NaN</td>\n      <td>All Lanes Open</td>\n      <td>-33.991912</td>\n      <td>115.786788</td>\n      <td>{7A443C5B-0C60-4A36-BBC9-0CA666A909F6}</td>\n    </tr>\n    <tr>\n      <th>2</th>\n      <td>115.711201</td>\n      <td>-31.674911</td>\n      <td>3</td>\n      <td>62408</td>\n      <td>2017/01/02 04:50:59</td>\n      <td>2017/01/02 05:48:00</td>\n      <td>2017/01/01 20:51:00</td>\n      <td>2017/01/02 02:48:00</td>\n      <td>Road Crash</td>\n      <td>Wanneroo Rd northbound  near Hester Av Neerabu...</td>\n      <td>Wanneroo Rd</td>\n      <td>Metro</td>\n      <td>All Lanes Open.  No Known Congestion.  Inciden...</td>\n      <td>NaN</td>\n      <td>All Lanes Open</td>\n      <td>-31.674911</td>\n      <td>115.711201</td>\n      <td>{814E5E47-AF04-45FC-8372-0A47A2C82E60}</td>\n    </tr>\n    <tr>\n      <th>3</th>\n      <td>115.838520</td>\n      <td>-31.936552</td>\n      <td>4</td>\n      <td>62412</td>\n      <td>2017/01/02 07:30:00</td>\n      <td>2017/01/02 08:29:59</td>\n      <td>2017/01/01 23:29:59</td>\n      <td>2017/01/02 05:29:59</td>\n      <td>Road Crash</td>\n      <td>Mitchell Fwy southbound Vincent St Leederville...</td>\n      <td>Mitchell Fwy</td>\n      <td>Metro</td>\n      <td>All Lanes Open.  No Known Congestion.  Inciden...</td>\n      <td>NaN</td>\n      <td>All Lanes Open</td>\n      <td>-31.936552</td>\n      <td>115.838520</td>\n      <td>{E38AA494-D9A9-4901-9286-EE78AC27E5C4}</td>\n    </tr>\n    <tr>\n      <th>4</th>\n      <td>116.015323</td>\n      <td>-31.892157</td>\n      <td>5</td>\n      <td>62418</td>\n      <td>2017/01/02 08:16:59</td>\n      <td>2017/01/02 08:55:00</td>\n      <td>2017/01/02 00:17:00</td>\n      <td>2017/01/02 05:55:00</td>\n      <td>Road Crash</td>\n      <td>Great Eastern Hwy direction unknown Loton Av M...</td>\n      <td>Great Eastern Hwy</td>\n      <td>Metro</td>\n      <td>All Lanes Open.  No Known Congestion.  No Deto...</td>\n      <td>NaN</td>\n      <td>All Lanes Open</td>\n      <td>-31.892157</td>\n      <td>116.015323</td>\n      <td>{0E716842-4B22-4EE7-AD9F-C3D7D2E0C6CC}</td>\n    </tr>\n  </tbody>\n</table>\n</div>"
     },
     "metadata": {},
     "execution_count": 100
    }
   ],
   "source": [
    "data_df=pd.read_csv(traffic_data)\n",
    "data_df.head()"
   ]
  },
  {
   "cell_type": "code",
   "execution_count": 101,
   "metadata": {
    "tags": []
   },
   "outputs": [
    {
     "output_type": "stream",
     "name": "stdout",
     "text": "<class 'pandas.core.frame.DataFrame'>\nInt64Index: 9897 entries, 0 to 11393\nData columns (total 18 columns):\n #   Column             Non-Null Count  Dtype  \n---  ------             --------------  -----  \n 0   X                  9897 non-null   float64\n 1   Y                  9897 non-null   float64\n 2   FID                9897 non-null   int64  \n 3   ID                 9897 non-null   int64  \n 4   WST_Start          9897 non-null   object \n 5   WST_End            9897 non-null   object \n 6   UTC_Start          9897 non-null   object \n 7   UTC_END            9897 non-null   object \n 8   Incident_Type      9897 non-null   object \n 9   Description        9897 non-null   object \n 10  Road               7004 non-null   object \n 11  Operations_Centre  9897 non-null   object \n 12  Location           9897 non-null   object \n 13  Local_Rd_Name      348 non-null    object \n 14  TrafficCondition   7004 non-null   object \n 15  Lat                9897 non-null   float64\n 16  Long               9897 non-null   float64\n 17  GlobalID           9897 non-null   object \ndtypes: float64(4), int64(2), object(12)\nmemory usage: 1.4+ MB\n"
    }
   ],
   "source": [
    "data_df = data_df.loc[data_df[\"Operations_Centre\"]==\"Metro\"]\n",
    "data_df.info()"
   ]
  },
  {
   "cell_type": "code",
   "execution_count": 102,
   "metadata": {
    "scrolled": true
   },
   "outputs": [
    {
     "output_type": "execute_result",
     "data": {
      "text/plain": "             WST_Start                Incident_Type  \\\n0  2017/01/01 16:59:00                   Road Crash   \n2  2017/01/02 04:50:59                   Road Crash   \n3  2017/01/02 07:30:00                   Road Crash   \n4  2017/01/02 08:16:59                   Road Crash   \n5  2017/01/02 12:13:00  Debris / Trees / Lost Loads   \n\n               TrafficCondition        Lat        Long  \n0                All Lanes Open -32.065714  115.894297  \n2                All Lanes Open -31.674911  115.711201  \n3                All Lanes Open -31.936552  115.838520  \n4                All Lanes Open -31.892157  116.015323  \n5  Right Centre Lane(s) Blocked -31.936639  115.838076  ",
      "text/html": "<div>\n<style scoped>\n    .dataframe tbody tr th:only-of-type {\n        vertical-align: middle;\n    }\n\n    .dataframe tbody tr th {\n        vertical-align: top;\n    }\n\n    .dataframe thead th {\n        text-align: right;\n    }\n</style>\n<table border=\"1\" class=\"dataframe\">\n  <thead>\n    <tr style=\"text-align: right;\">\n      <th></th>\n      <th>WST_Start</th>\n      <th>Incident_Type</th>\n      <th>TrafficCondition</th>\n      <th>Lat</th>\n      <th>Long</th>\n    </tr>\n  </thead>\n  <tbody>\n    <tr>\n      <th>0</th>\n      <td>2017/01/01 16:59:00</td>\n      <td>Road Crash</td>\n      <td>All Lanes Open</td>\n      <td>-32.065714</td>\n      <td>115.894297</td>\n    </tr>\n    <tr>\n      <th>2</th>\n      <td>2017/01/02 04:50:59</td>\n      <td>Road Crash</td>\n      <td>All Lanes Open</td>\n      <td>-31.674911</td>\n      <td>115.711201</td>\n    </tr>\n    <tr>\n      <th>3</th>\n      <td>2017/01/02 07:30:00</td>\n      <td>Road Crash</td>\n      <td>All Lanes Open</td>\n      <td>-31.936552</td>\n      <td>115.838520</td>\n    </tr>\n    <tr>\n      <th>4</th>\n      <td>2017/01/02 08:16:59</td>\n      <td>Road Crash</td>\n      <td>All Lanes Open</td>\n      <td>-31.892157</td>\n      <td>116.015323</td>\n    </tr>\n    <tr>\n      <th>5</th>\n      <td>2017/01/02 12:13:00</td>\n      <td>Debris / Trees / Lost Loads</td>\n      <td>Right Centre Lane(s) Blocked</td>\n      <td>-31.936639</td>\n      <td>115.838076</td>\n    </tr>\n  </tbody>\n</table>\n</div>"
     },
     "metadata": {},
     "execution_count": 102
    }
   ],
   "source": [
    "new_data = data_df[[\"WST_Start\",\"Incident_Type\",\"TrafficCondition\",\"Lat\",\"Long\"]]\n",
    "new_data.head()"
   ]
  },
  {
   "cell_type": "code",
   "execution_count": 112,
   "metadata": {
    "tags": []
   },
   "outputs": [],
   "source": [
    "date_df = new_data.loc[(new_data['WST_Start'] > \"2017/12/25\") & (new_data['WST_Start'] <= \"2017/12/31\")]\n",
    "date_df[['Date','Time']] = date_df[\"WST_Start\"].str.split(\" \",expand=True)\n",
    "date_df[\"Date\"] = pd.to_datetime(date_df[\"Date\"])\n"
   ]
  },
  {
   "cell_type": "code",
   "execution_count": 113,
   "metadata": {},
   "outputs": [],
   "source": [
    "# Import and clean rainfall Data\n",
    "weather_df = pd.read_csv(rain_data)\n",
    "weather_df = rain_df[[\"Year\", \"Month\", \"Day\", \"Rainfall amount (millimetres)\"]]\n",
    "weather_df = weather_df.loc[weather_df[\"Month\"]==12]"
   ]
  },
  {
   "cell_type": "code",
   "execution_count": 114,
   "metadata": {},
   "outputs": [],
   "source": [
    "# import Temperature Data\n",
    "temp_df = pd.read_csv(temp_data)\n",
    "temp_df = temp_df.loc[temp_df[\"Month\"]==12]"
   ]
  },
  {
   "cell_type": "code",
   "execution_count": 115,
   "metadata": {},
   "outputs": [],
   "source": [
    "# Add Max Temp to Rain Data\n",
    "weather_df[\"Maximum temperature (Degree C)\"] = temp_df[\"Maximum temperature (Degree C)\"]"
   ]
  },
  {
   "cell_type": "code",
   "execution_count": 116,
   "metadata": {},
   "outputs": [
    {
     "output_type": "execute_result",
     "data": {
      "text/plain": "     Year  Month  Day  Rainfall amount (millimetres)  \\\n334  2017     12    1                            0.0   \n335  2017     12    2                            0.0   \n336  2017     12    3                            0.0   \n337  2017     12    4                            7.4   \n338  2017     12    5                            0.0   \n339  2017     12    6                            0.0   \n340  2017     12    7                            0.0   \n341  2017     12    8                            0.0   \n342  2017     12    9                            0.0   \n343  2017     12   10                            0.0   \n344  2017     12   11                            0.0   \n345  2017     12   12                            0.0   \n346  2017     12   13                            0.0   \n347  2017     12   14                            0.0   \n348  2017     12   15                            0.0   \n349  2017     12   16                            0.0   \n350  2017     12   17                            2.6   \n351  2017     12   18                           22.2   \n352  2017     12   19                            8.4   \n353  2017     12   20                            0.0   \n354  2017     12   21                            0.0   \n355  2017     12   22                            0.0   \n356  2017     12   23                            0.0   \n357  2017     12   24                            0.0   \n358  2017     12   25                            0.0   \n359  2017     12   26                            0.0   \n360  2017     12   27                            0.0   \n361  2017     12   28                            0.0   \n362  2017     12   29                            0.0   \n363  2017     12   30                            0.0   \n364  2017     12   31                            0.0   \n\n     Maximum temperature (Degree C)       Date  \n334                            27.8 2017-12-01  \n335                            34.5 2017-12-02  \n336                            35.5 2017-12-03  \n337                            25.1 2017-12-04  \n338                            27.3 2017-12-05  \n339                            27.9 2017-12-06  \n340                            29.0 2017-12-07  \n341                            35.2 2017-12-08  \n342                            33.2 2017-12-09  \n343                            37.7 2017-12-10  \n344                            37.6 2017-12-11  \n345                            27.6 2017-12-12  \n346                            25.3 2017-12-13  \n347                            27.6 2017-12-14  \n348                            29.5 2017-12-15  \n349                            27.8 2017-12-16  \n350                            21.9 2017-12-17  \n351                            20.9 2017-12-18  \n352                            23.4 2017-12-19  \n353                            28.9 2017-12-20  \n354                            36.1 2017-12-21  \n355                            31.7 2017-12-22  \n356                            30.5 2017-12-23  \n357                            33.7 2017-12-24  \n358                            32.5 2017-12-25  \n359                            26.4 2017-12-26  \n360                            25.2 2017-12-27  \n361                            25.8 2017-12-28  \n362                            28.3 2017-12-29  \n363                            34.7 2017-12-30  \n364                            32.0 2017-12-31  ",
      "text/html": "<div>\n<style scoped>\n    .dataframe tbody tr th:only-of-type {\n        vertical-align: middle;\n    }\n\n    .dataframe tbody tr th {\n        vertical-align: top;\n    }\n\n    .dataframe thead th {\n        text-align: right;\n    }\n</style>\n<table border=\"1\" class=\"dataframe\">\n  <thead>\n    <tr style=\"text-align: right;\">\n      <th></th>\n      <th>Year</th>\n      <th>Month</th>\n      <th>Day</th>\n      <th>Rainfall amount (millimetres)</th>\n      <th>Maximum temperature (Degree C)</th>\n      <th>Date</th>\n    </tr>\n  </thead>\n  <tbody>\n    <tr>\n      <th>334</th>\n      <td>2017</td>\n      <td>12</td>\n      <td>1</td>\n      <td>0.0</td>\n      <td>27.8</td>\n      <td>2017-12-01</td>\n    </tr>\n    <tr>\n      <th>335</th>\n      <td>2017</td>\n      <td>12</td>\n      <td>2</td>\n      <td>0.0</td>\n      <td>34.5</td>\n      <td>2017-12-02</td>\n    </tr>\n    <tr>\n      <th>336</th>\n      <td>2017</td>\n      <td>12</td>\n      <td>3</td>\n      <td>0.0</td>\n      <td>35.5</td>\n      <td>2017-12-03</td>\n    </tr>\n    <tr>\n      <th>337</th>\n      <td>2017</td>\n      <td>12</td>\n      <td>4</td>\n      <td>7.4</td>\n      <td>25.1</td>\n      <td>2017-12-04</td>\n    </tr>\n    <tr>\n      <th>338</th>\n      <td>2017</td>\n      <td>12</td>\n      <td>5</td>\n      <td>0.0</td>\n      <td>27.3</td>\n      <td>2017-12-05</td>\n    </tr>\n    <tr>\n      <th>339</th>\n      <td>2017</td>\n      <td>12</td>\n      <td>6</td>\n      <td>0.0</td>\n      <td>27.9</td>\n      <td>2017-12-06</td>\n    </tr>\n    <tr>\n      <th>340</th>\n      <td>2017</td>\n      <td>12</td>\n      <td>7</td>\n      <td>0.0</td>\n      <td>29.0</td>\n      <td>2017-12-07</td>\n    </tr>\n    <tr>\n      <th>341</th>\n      <td>2017</td>\n      <td>12</td>\n      <td>8</td>\n      <td>0.0</td>\n      <td>35.2</td>\n      <td>2017-12-08</td>\n    </tr>\n    <tr>\n      <th>342</th>\n      <td>2017</td>\n      <td>12</td>\n      <td>9</td>\n      <td>0.0</td>\n      <td>33.2</td>\n      <td>2017-12-09</td>\n    </tr>\n    <tr>\n      <th>343</th>\n      <td>2017</td>\n      <td>12</td>\n      <td>10</td>\n      <td>0.0</td>\n      <td>37.7</td>\n      <td>2017-12-10</td>\n    </tr>\n    <tr>\n      <th>344</th>\n      <td>2017</td>\n      <td>12</td>\n      <td>11</td>\n      <td>0.0</td>\n      <td>37.6</td>\n      <td>2017-12-11</td>\n    </tr>\n    <tr>\n      <th>345</th>\n      <td>2017</td>\n      <td>12</td>\n      <td>12</td>\n      <td>0.0</td>\n      <td>27.6</td>\n      <td>2017-12-12</td>\n    </tr>\n    <tr>\n      <th>346</th>\n      <td>2017</td>\n      <td>12</td>\n      <td>13</td>\n      <td>0.0</td>\n      <td>25.3</td>\n      <td>2017-12-13</td>\n    </tr>\n    <tr>\n      <th>347</th>\n      <td>2017</td>\n      <td>12</td>\n      <td>14</td>\n      <td>0.0</td>\n      <td>27.6</td>\n      <td>2017-12-14</td>\n    </tr>\n    <tr>\n      <th>348</th>\n      <td>2017</td>\n      <td>12</td>\n      <td>15</td>\n      <td>0.0</td>\n      <td>29.5</td>\n      <td>2017-12-15</td>\n    </tr>\n    <tr>\n      <th>349</th>\n      <td>2017</td>\n      <td>12</td>\n      <td>16</td>\n      <td>0.0</td>\n      <td>27.8</td>\n      <td>2017-12-16</td>\n    </tr>\n    <tr>\n      <th>350</th>\n      <td>2017</td>\n      <td>12</td>\n      <td>17</td>\n      <td>2.6</td>\n      <td>21.9</td>\n      <td>2017-12-17</td>\n    </tr>\n    <tr>\n      <th>351</th>\n      <td>2017</td>\n      <td>12</td>\n      <td>18</td>\n      <td>22.2</td>\n      <td>20.9</td>\n      <td>2017-12-18</td>\n    </tr>\n    <tr>\n      <th>352</th>\n      <td>2017</td>\n      <td>12</td>\n      <td>19</td>\n      <td>8.4</td>\n      <td>23.4</td>\n      <td>2017-12-19</td>\n    </tr>\n    <tr>\n      <th>353</th>\n      <td>2017</td>\n      <td>12</td>\n      <td>20</td>\n      <td>0.0</td>\n      <td>28.9</td>\n      <td>2017-12-20</td>\n    </tr>\n    <tr>\n      <th>354</th>\n      <td>2017</td>\n      <td>12</td>\n      <td>21</td>\n      <td>0.0</td>\n      <td>36.1</td>\n      <td>2017-12-21</td>\n    </tr>\n    <tr>\n      <th>355</th>\n      <td>2017</td>\n      <td>12</td>\n      <td>22</td>\n      <td>0.0</td>\n      <td>31.7</td>\n      <td>2017-12-22</td>\n    </tr>\n    <tr>\n      <th>356</th>\n      <td>2017</td>\n      <td>12</td>\n      <td>23</td>\n      <td>0.0</td>\n      <td>30.5</td>\n      <td>2017-12-23</td>\n    </tr>\n    <tr>\n      <th>357</th>\n      <td>2017</td>\n      <td>12</td>\n      <td>24</td>\n      <td>0.0</td>\n      <td>33.7</td>\n      <td>2017-12-24</td>\n    </tr>\n    <tr>\n      <th>358</th>\n      <td>2017</td>\n      <td>12</td>\n      <td>25</td>\n      <td>0.0</td>\n      <td>32.5</td>\n      <td>2017-12-25</td>\n    </tr>\n    <tr>\n      <th>359</th>\n      <td>2017</td>\n      <td>12</td>\n      <td>26</td>\n      <td>0.0</td>\n      <td>26.4</td>\n      <td>2017-12-26</td>\n    </tr>\n    <tr>\n      <th>360</th>\n      <td>2017</td>\n      <td>12</td>\n      <td>27</td>\n      <td>0.0</td>\n      <td>25.2</td>\n      <td>2017-12-27</td>\n    </tr>\n    <tr>\n      <th>361</th>\n      <td>2017</td>\n      <td>12</td>\n      <td>28</td>\n      <td>0.0</td>\n      <td>25.8</td>\n      <td>2017-12-28</td>\n    </tr>\n    <tr>\n      <th>362</th>\n      <td>2017</td>\n      <td>12</td>\n      <td>29</td>\n      <td>0.0</td>\n      <td>28.3</td>\n      <td>2017-12-29</td>\n    </tr>\n    <tr>\n      <th>363</th>\n      <td>2017</td>\n      <td>12</td>\n      <td>30</td>\n      <td>0.0</td>\n      <td>34.7</td>\n      <td>2017-12-30</td>\n    </tr>\n    <tr>\n      <th>364</th>\n      <td>2017</td>\n      <td>12</td>\n      <td>31</td>\n      <td>0.0</td>\n      <td>32.0</td>\n      <td>2017-12-31</td>\n    </tr>\n  </tbody>\n</table>\n</div>"
     },
     "metadata": {},
     "execution_count": 116
    }
   ],
   "source": [
    "weather_df[\"Date\"] = pd.to_datetime(weather_df[['Year','Month','Day']])\n",
    "weather_df"
   ]
  },
  {
   "cell_type": "code",
   "execution_count": 121,
   "metadata": {},
   "outputs": [],
   "source": [
    "combined_df = date_df.merge(weather_df, how='left', on='Date')\n",
    "combined_df = combined_df.drop(['WST_Start','Year','Month','Day'], axis=1)"
   ]
  },
  {
   "cell_type": "code",
   "execution_count": 125,
   "metadata": {},
   "outputs": [],
   "source": [
    "combined_df = combined_df[['Date','Time','Incident_Type','TrafficCondition','Lat','Long','Rainfall amount (millimetres)','Maximum temperature (Degree C)']]"
   ]
  },
  {
   "cell_type": "code",
   "execution_count": 126,
   "metadata": {},
   "outputs": [
    {
     "output_type": "execute_result",
     "data": {
      "text/plain": "         Date      Time                Incident_Type  \\\n0  2017-12-25  03:21:59                     Bushfire   \n1  2017-12-25  03:21:59                     Bushfire   \n2  2017-12-25  05:42:00                   Road Crash   \n3  2017-12-25  06:01:00        Break Down / Tow Away   \n4  2017-12-25  06:17:59  Debris / Trees / Lost Loads   \n..        ...       ...                          ...   \n70 2017-12-30  13:34:59  Debris / Trees / Lost Loads   \n71 2017-12-30  16:11:00  Debris / Trees / Lost Loads   \n72 2017-12-30  20:03:59                   Road Crash   \n73 2017-12-30  20:03:59                   Road Crash   \n74 2017-12-30  23:23:00        Break Down / Tow Away   \n\n                TrafficCondition        Lat        Long  \\\n0          Lane Closures Unknown -32.098161  116.012054   \n1          Lane Closures Unknown -32.098161  116.012054   \n2           Left Lane(s) Blocked -32.201760  115.853717   \n3                 All Lanes Open -31.953151  115.848371   \n4                 All Lanes Open -32.062048  115.851010   \n..                           ...        ...         ...   \n70                All Lanes Open -32.032029  115.859519   \n71                All Lanes Open -32.148234  115.859966   \n72         Right Lane(s) Blocked -31.949386  115.871415   \n73         Right Lane(s) Blocked -31.949386  115.871415   \n74  Right Emergency Lane Blocked -31.927353  115.831052   \n\n    Rainfall amount (millimetres)  Maximum temperature (Degree C)  \n0                             0.0                            32.5  \n1                             0.0                            32.5  \n2                             0.0                            32.5  \n3                             0.0                            32.5  \n4                             0.0                            32.5  \n..                            ...                             ...  \n70                            0.0                            34.7  \n71                            0.0                            34.7  \n72                            0.0                            34.7  \n73                            0.0                            34.7  \n74                            0.0                            34.7  \n\n[75 rows x 8 columns]",
      "text/html": "<div>\n<style scoped>\n    .dataframe tbody tr th:only-of-type {\n        vertical-align: middle;\n    }\n\n    .dataframe tbody tr th {\n        vertical-align: top;\n    }\n\n    .dataframe thead th {\n        text-align: right;\n    }\n</style>\n<table border=\"1\" class=\"dataframe\">\n  <thead>\n    <tr style=\"text-align: right;\">\n      <th></th>\n      <th>Date</th>\n      <th>Time</th>\n      <th>Incident_Type</th>\n      <th>TrafficCondition</th>\n      <th>Lat</th>\n      <th>Long</th>\n      <th>Rainfall amount (millimetres)</th>\n      <th>Maximum temperature (Degree C)</th>\n    </tr>\n  </thead>\n  <tbody>\n    <tr>\n      <th>0</th>\n      <td>2017-12-25</td>\n      <td>03:21:59</td>\n      <td>Bushfire</td>\n      <td>Lane Closures Unknown</td>\n      <td>-32.098161</td>\n      <td>116.012054</td>\n      <td>0.0</td>\n      <td>32.5</td>\n    </tr>\n    <tr>\n      <th>1</th>\n      <td>2017-12-25</td>\n      <td>03:21:59</td>\n      <td>Bushfire</td>\n      <td>Lane Closures Unknown</td>\n      <td>-32.098161</td>\n      <td>116.012054</td>\n      <td>0.0</td>\n      <td>32.5</td>\n    </tr>\n    <tr>\n      <th>2</th>\n      <td>2017-12-25</td>\n      <td>05:42:00</td>\n      <td>Road Crash</td>\n      <td>Left Lane(s) Blocked</td>\n      <td>-32.201760</td>\n      <td>115.853717</td>\n      <td>0.0</td>\n      <td>32.5</td>\n    </tr>\n    <tr>\n      <th>3</th>\n      <td>2017-12-25</td>\n      <td>06:01:00</td>\n      <td>Break Down / Tow Away</td>\n      <td>All Lanes Open</td>\n      <td>-31.953151</td>\n      <td>115.848371</td>\n      <td>0.0</td>\n      <td>32.5</td>\n    </tr>\n    <tr>\n      <th>4</th>\n      <td>2017-12-25</td>\n      <td>06:17:59</td>\n      <td>Debris / Trees / Lost Loads</td>\n      <td>All Lanes Open</td>\n      <td>-32.062048</td>\n      <td>115.851010</td>\n      <td>0.0</td>\n      <td>32.5</td>\n    </tr>\n    <tr>\n      <th>...</th>\n      <td>...</td>\n      <td>...</td>\n      <td>...</td>\n      <td>...</td>\n      <td>...</td>\n      <td>...</td>\n      <td>...</td>\n      <td>...</td>\n    </tr>\n    <tr>\n      <th>70</th>\n      <td>2017-12-30</td>\n      <td>13:34:59</td>\n      <td>Debris / Trees / Lost Loads</td>\n      <td>All Lanes Open</td>\n      <td>-32.032029</td>\n      <td>115.859519</td>\n      <td>0.0</td>\n      <td>34.7</td>\n    </tr>\n    <tr>\n      <th>71</th>\n      <td>2017-12-30</td>\n      <td>16:11:00</td>\n      <td>Debris / Trees / Lost Loads</td>\n      <td>All Lanes Open</td>\n      <td>-32.148234</td>\n      <td>115.859966</td>\n      <td>0.0</td>\n      <td>34.7</td>\n    </tr>\n    <tr>\n      <th>72</th>\n      <td>2017-12-30</td>\n      <td>20:03:59</td>\n      <td>Road Crash</td>\n      <td>Right Lane(s) Blocked</td>\n      <td>-31.949386</td>\n      <td>115.871415</td>\n      <td>0.0</td>\n      <td>34.7</td>\n    </tr>\n    <tr>\n      <th>73</th>\n      <td>2017-12-30</td>\n      <td>20:03:59</td>\n      <td>Road Crash</td>\n      <td>Right Lane(s) Blocked</td>\n      <td>-31.949386</td>\n      <td>115.871415</td>\n      <td>0.0</td>\n      <td>34.7</td>\n    </tr>\n    <tr>\n      <th>74</th>\n      <td>2017-12-30</td>\n      <td>23:23:00</td>\n      <td>Break Down / Tow Away</td>\n      <td>Right Emergency Lane Blocked</td>\n      <td>-31.927353</td>\n      <td>115.831052</td>\n      <td>0.0</td>\n      <td>34.7</td>\n    </tr>\n  </tbody>\n</table>\n<p>75 rows × 8 columns</p>\n</div>"
     },
     "metadata": {},
     "execution_count": 126
    }
   ],
   "source": [
    "combined_df"
   ]
  },
  {
   "cell_type": "code",
   "execution_count": null,
   "metadata": {},
   "outputs": [],
   "source": []
  },
  {
   "cell_type": "code",
   "execution_count": null,
   "metadata": {},
   "outputs": [],
   "source": []
  }
 ],
 "metadata": {
  "kernelspec": {
   "display_name": "Python 3",
   "language": "python",
   "name": "python3"
  },
  "language_info": {
   "codemirror_mode": {
    "name": "ipython",
    "version": 3
   },
   "file_extension": ".py",
   "mimetype": "text/x-python",
   "name": "python",
   "nbconvert_exporter": "python",
   "pygments_lexer": "ipython3",
   "version": "3.8.3-final"
  }
 },
 "nbformat": 4,
 "nbformat_minor": 4
}