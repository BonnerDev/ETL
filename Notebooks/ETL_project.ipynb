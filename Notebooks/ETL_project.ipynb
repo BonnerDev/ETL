{
 "cells": [
  {
   "cell_type": "code",
   "execution_count": 166,
   "metadata": {},
   "outputs": [],
   "source": [
    "# Dependancies\n",
    "import pandas as pd\n",
    "import datetime\n",
    "\n",
    "# Import data sources   \n",
    "traffic_data = \"../Resources/Historic_Incidents_2016_2017.csv\"\n",
    "rain_data = \"../Resources/IDCJAC0009_009225_2017_Rainfall.csv\"\n",
    "temp_data = \"../Resources/IDCJAC0010_009225_2017_Temp.csv\""
   ]
  },
  {
   "cell_type": "code",
   "execution_count": 167,
   "metadata": {},
   "outputs": [
    {
     "output_type": "execute_result",
     "data": {
      "text/plain": "            X          Y  FID     ID            WST_Start  \\\n0  115.894297 -32.065714    1  62397  2017/01/01 16:59:00   \n1  115.786788 -33.991912    2  62401  2017/01/01 18:24:59   \n2  115.711201 -31.674911    3  62408  2017/01/02 04:50:59   \n3  115.838520 -31.936552    4  62412  2017/01/02 07:30:00   \n4  116.015323 -31.892157    5  62418  2017/01/02 08:16:59   \n\n               WST_End            UTC_Start              UTC_END  \\\n0  2017/01/01 21:35:00  2017/01/01 08:58:59  2017/01/01 18:35:00   \n1  2017/01/12 11:12:00  2017/01/01 10:25:00  2017/01/12 08:12:00   \n2  2017/01/02 05:48:00  2017/01/01 20:51:00  2017/01/02 02:48:00   \n3  2017/01/02 08:29:59  2017/01/01 23:29:59  2017/01/02 05:29:59   \n4  2017/01/02 08:55:00  2017/01/02 00:17:00  2017/01/02 05:55:00   \n\n  Incident_Type                                        Description  \\\n0    Road Crash  Roe Hwy southbound South Street Canningvale  -...   \n1      Bushfire  Brockman Hwy both directions Brockman Rd East ...   \n2    Road Crash  Wanneroo Rd northbound  near Hester Av Neerabu...   \n3    Road Crash  Mitchell Fwy southbound Vincent St Leederville...   \n4    Road Crash  Great Eastern Hwy direction unknown Loton Av M...   \n\n                Road Operations_Centre  \\\n0            Roe Hwy             Metro   \n1       Brockman Hwy        South West   \n2        Wanneroo Rd             Metro   \n3       Mitchell Fwy             Metro   \n4  Great Eastern Hwy             Metro   \n\n                                            Location Local_Rd_Name  \\\n0  All Lanes Open.  No Known Congestion.  Inciden...           NaN   \n1  All Lanes Open.  No Known Congestion.  Inciden...           NaN   \n2  All Lanes Open.  No Known Congestion.  Inciden...           NaN   \n3  All Lanes Open.  No Known Congestion.  Inciden...           NaN   \n4  All Lanes Open.  No Known Congestion.  No Deto...           NaN   \n\n  TrafficCondition        Lat        Long  \\\n0   All Lanes Open -32.065714  115.894297   \n1   All Lanes Open -33.991912  115.786788   \n2   All Lanes Open -31.674911  115.711201   \n3   All Lanes Open -31.936552  115.838520   \n4   All Lanes Open -31.892157  116.015323   \n\n                                 GlobalID  \n0  {EC2D031A-9C1F-430C-95F6-39F4E01DCF60}  \n1  {7A443C5B-0C60-4A36-BBC9-0CA666A909F6}  \n2  {814E5E47-AF04-45FC-8372-0A47A2C82E60}  \n3  {E38AA494-D9A9-4901-9286-EE78AC27E5C4}  \n4  {0E716842-4B22-4EE7-AD9F-C3D7D2E0C6CC}  ",
      "text/html": "<div>\n<style scoped>\n    .dataframe tbody tr th:only-of-type {\n        vertical-align: middle;\n    }\n\n    .dataframe tbody tr th {\n        vertical-align: top;\n    }\n\n    .dataframe thead th {\n        text-align: right;\n    }\n</style>\n<table border=\"1\" class=\"dataframe\">\n  <thead>\n    <tr style=\"text-align: right;\">\n      <th></th>\n      <th>X</th>\n      <th>Y</th>\n      <th>FID</th>\n      <th>ID</th>\n      <th>WST_Start</th>\n      <th>WST_End</th>\n      <th>UTC_Start</th>\n      <th>UTC_END</th>\n      <th>Incident_Type</th>\n      <th>Description</th>\n      <th>Road</th>\n      <th>Operations_Centre</th>\n      <th>Location</th>\n      <th>Local_Rd_Name</th>\n      <th>TrafficCondition</th>\n      <th>Lat</th>\n      <th>Long</th>\n      <th>GlobalID</th>\n    </tr>\n  </thead>\n  <tbody>\n    <tr>\n      <th>0</th>\n      <td>115.894297</td>\n      <td>-32.065714</td>\n      <td>1</td>\n      <td>62397</td>\n      <td>2017/01/01 16:59:00</td>\n      <td>2017/01/01 21:35:00</td>\n      <td>2017/01/01 08:58:59</td>\n      <td>2017/01/01 18:35:00</td>\n      <td>Road Crash</td>\n      <td>Roe Hwy southbound South Street Canningvale  -...</td>\n      <td>Roe Hwy</td>\n      <td>Metro</td>\n      <td>All Lanes Open.  No Known Congestion.  Inciden...</td>\n      <td>NaN</td>\n      <td>All Lanes Open</td>\n      <td>-32.065714</td>\n      <td>115.894297</td>\n      <td>{EC2D031A-9C1F-430C-95F6-39F4E01DCF60}</td>\n    </tr>\n    <tr>\n      <th>1</th>\n      <td>115.786788</td>\n      <td>-33.991912</td>\n      <td>2</td>\n      <td>62401</td>\n      <td>2017/01/01 18:24:59</td>\n      <td>2017/01/12 11:12:00</td>\n      <td>2017/01/01 10:25:00</td>\n      <td>2017/01/12 08:12:00</td>\n      <td>Bushfire</td>\n      <td>Brockman Hwy both directions Brockman Rd East ...</td>\n      <td>Brockman Hwy</td>\n      <td>South West</td>\n      <td>All Lanes Open.  No Known Congestion.  Inciden...</td>\n      <td>NaN</td>\n      <td>All Lanes Open</td>\n      <td>-33.991912</td>\n      <td>115.786788</td>\n      <td>{7A443C5B-0C60-4A36-BBC9-0CA666A909F6}</td>\n    </tr>\n    <tr>\n      <th>2</th>\n      <td>115.711201</td>\n      <td>-31.674911</td>\n      <td>3</td>\n      <td>62408</td>\n      <td>2017/01/02 04:50:59</td>\n      <td>2017/01/02 05:48:00</td>\n      <td>2017/01/01 20:51:00</td>\n      <td>2017/01/02 02:48:00</td>\n      <td>Road Crash</td>\n      <td>Wanneroo Rd northbound  near Hester Av Neerabu...</td>\n      <td>Wanneroo Rd</td>\n      <td>Metro</td>\n      <td>All Lanes Open.  No Known Congestion.  Inciden...</td>\n      <td>NaN</td>\n      <td>All Lanes Open</td>\n      <td>-31.674911</td>\n      <td>115.711201</td>\n      <td>{814E5E47-AF04-45FC-8372-0A47A2C82E60}</td>\n    </tr>\n    <tr>\n      <th>3</th>\n      <td>115.838520</td>\n      <td>-31.936552</td>\n      <td>4</td>\n      <td>62412</td>\n      <td>2017/01/02 07:30:00</td>\n      <td>2017/01/02 08:29:59</td>\n      <td>2017/01/01 23:29:59</td>\n      <td>2017/01/02 05:29:59</td>\n      <td>Road Crash</td>\n      <td>Mitchell Fwy southbound Vincent St Leederville...</td>\n      <td>Mitchell Fwy</td>\n      <td>Metro</td>\n      <td>All Lanes Open.  No Known Congestion.  Inciden...</td>\n      <td>NaN</td>\n      <td>All Lanes Open</td>\n      <td>-31.936552</td>\n      <td>115.838520</td>\n      <td>{E38AA494-D9A9-4901-9286-EE78AC27E5C4}</td>\n    </tr>\n    <tr>\n      <th>4</th>\n      <td>116.015323</td>\n      <td>-31.892157</td>\n      <td>5</td>\n      <td>62418</td>\n      <td>2017/01/02 08:16:59</td>\n      <td>2017/01/02 08:55:00</td>\n      <td>2017/01/02 00:17:00</td>\n      <td>2017/01/02 05:55:00</td>\n      <td>Road Crash</td>\n      <td>Great Eastern Hwy direction unknown Loton Av M...</td>\n      <td>Great Eastern Hwy</td>\n      <td>Metro</td>\n      <td>All Lanes Open.  No Known Congestion.  No Deto...</td>\n      <td>NaN</td>\n      <td>All Lanes Open</td>\n      <td>-31.892157</td>\n      <td>116.015323</td>\n      <td>{0E716842-4B22-4EE7-AD9F-C3D7D2E0C6CC}</td>\n    </tr>\n  </tbody>\n</table>\n</div>"
     },
     "metadata": {},
     "execution_count": 167
    }
   ],
   "source": [
    "# Read in traffic data\n",
    "data_df=pd.read_csv(traffic_data)\n",
    "data_df.head()"
   ]
  },
  {
   "cell_type": "code",
   "execution_count": 168,
   "metadata": {
    "tags": []
   },
   "outputs": [],
   "source": [
    "# Filter to Metro only\n",
    "data_df = data_df.loc[data_df[\"Operations_Centre\"]==\"Metro\"]"
   ]
  },
  {
   "cell_type": "code",
   "execution_count": 169,
   "metadata": {
    "scrolled": true
   },
   "outputs": [],
   "source": [
    "# remove unuesed columns\n",
    "new_data = data_df[[\"WST_Start\",\"Incident_Type\",\"TrafficCondition\",\"Lat\",\"Long\"]]\n"
   ]
  },
  {
   "cell_type": "code",
   "execution_count": 170,
   "metadata": {
    "tags": []
   },
   "outputs": [],
   "source": [
    "# Filter to selected timerange (25/12 - 31/12)\n",
    "date_df = new_data.loc[(new_data['WST_Start'] > \"2017/12/25\") & (new_data['WST_Start'] <= \"2017/12/31\")]\n",
    "\n",
    "# Split Time of Incident into Date + Time\n",
    "date_df[['Date','Time']] = date_df[\"WST_Start\"].str.split(\" \",expand=True)\n",
    "\n",
    "# Convert Date to datetime object for merge\n",
    "date_df[\"Date\"] = pd.to_datetime(date_df[\"Date\"])\n"
   ]
  },
  {
   "cell_type": "code",
   "execution_count": 171,
   "metadata": {},
   "outputs": [],
   "source": [
    "# Import and clean rainfall Data\n",
    "weather_df = pd.read_csv(rain_data)\n",
    "\n",
    "# remove unused columns\n",
    "weather_df = rain_df[[\"Year\", \"Month\", \"Day\", \"Rainfall amount (millimetres)\"]]\n",
    "\n",
    "# Filter down to last month (December) for selected time range\n",
    "weather_df = weather_df.loc[weather_df[\"Month\"]==12]"
   ]
  },
  {
   "cell_type": "code",
   "execution_count": 172,
   "metadata": {},
   "outputs": [],
   "source": [
    "# import Temperature Data\n",
    "temp_df = pd.read_csv(temp_data)\n",
    "\n",
    "# Filter to time range\n",
    "temp_df = temp_df.loc[temp_df[\"Month\"]==12]"
   ]
  },
  {
   "cell_type": "code",
   "execution_count": 173,
   "metadata": {},
   "outputs": [],
   "source": [
    "# Merge Rain and Temp into one df\n",
    "weather_df[\"Maximum temperature (Degree C)\"] = temp_df[\"Maximum temperature (Degree C)\"]"
   ]
  },
  {
   "cell_type": "code",
   "execution_count": 174,
   "metadata": {},
   "outputs": [],
   "source": [
    "# Combine Time columns into one Date object\n",
    "weather_df[\"Date\"] = pd.to_datetime(weather_df[['Year','Month','Day']])"
   ]
  },
  {
   "cell_type": "code",
   "execution_count": 175,
   "metadata": {},
   "outputs": [],
   "source": [
    "# merge traffic and weather data\n",
    "combined_df = date_df.merge(weather_df, how='left', on='Date')\n",
    "\n",
    "# drop columns\n",
    "combined_df = combined_df.drop(['WST_Start','Year','Month','Day'], axis=1)"
   ]
  },
  {
   "cell_type": "code",
   "execution_count": 176,
   "metadata": {},
   "outputs": [
    {
     "output_type": "execute_result",
     "data": {
      "text/plain": "         Date      Time                Incident_Type  \\\n0  2017-12-25  03:21:59                     Bushfire   \n1  2017-12-25  03:21:59                     Bushfire   \n2  2017-12-25  05:42:00                   Road Crash   \n3  2017-12-25  06:01:00        Break Down / Tow Away   \n4  2017-12-25  06:17:59  Debris / Trees / Lost Loads   \n..        ...       ...                          ...   \n70 2017-12-30  13:34:59  Debris / Trees / Lost Loads   \n71 2017-12-30  16:11:00  Debris / Trees / Lost Loads   \n72 2017-12-30  20:03:59                   Road Crash   \n73 2017-12-30  20:03:59                   Road Crash   \n74 2017-12-30  23:23:00        Break Down / Tow Away   \n\n                TrafficCondition        Lat        Long  \\\n0          Lane Closures Unknown -32.098161  116.012054   \n1          Lane Closures Unknown -32.098161  116.012054   \n2           Left Lane(s) Blocked -32.201760  115.853717   \n3                 All Lanes Open -31.953151  115.848371   \n4                 All Lanes Open -32.062048  115.851010   \n..                           ...        ...         ...   \n70                All Lanes Open -32.032029  115.859519   \n71                All Lanes Open -32.148234  115.859966   \n72         Right Lane(s) Blocked -31.949386  115.871415   \n73         Right Lane(s) Blocked -31.949386  115.871415   \n74  Right Emergency Lane Blocked -31.927353  115.831052   \n\n    Rainfall amount (millimetres)  Maximum temperature (Degree C)  \n0                             0.0                            32.5  \n1                             0.0                            32.5  \n2                             0.0                            32.5  \n3                             0.0                            32.5  \n4                             0.0                            32.5  \n..                            ...                             ...  \n70                            0.0                            34.7  \n71                            0.0                            34.7  \n72                            0.0                            34.7  \n73                            0.0                            34.7  \n74                            0.0                            34.7  \n\n[75 rows x 8 columns]",
      "text/html": "<div>\n<style scoped>\n    .dataframe tbody tr th:only-of-type {\n        vertical-align: middle;\n    }\n\n    .dataframe tbody tr th {\n        vertical-align: top;\n    }\n\n    .dataframe thead th {\n        text-align: right;\n    }\n</style>\n<table border=\"1\" class=\"dataframe\">\n  <thead>\n    <tr style=\"text-align: right;\">\n      <th></th>\n      <th>Date</th>\n      <th>Time</th>\n      <th>Incident_Type</th>\n      <th>TrafficCondition</th>\n      <th>Lat</th>\n      <th>Long</th>\n      <th>Rainfall amount (millimetres)</th>\n      <th>Maximum temperature (Degree C)</th>\n    </tr>\n  </thead>\n  <tbody>\n    <tr>\n      <th>0</th>\n      <td>2017-12-25</td>\n      <td>03:21:59</td>\n      <td>Bushfire</td>\n      <td>Lane Closures Unknown</td>\n      <td>-32.098161</td>\n      <td>116.012054</td>\n      <td>0.0</td>\n      <td>32.5</td>\n    </tr>\n    <tr>\n      <th>1</th>\n      <td>2017-12-25</td>\n      <td>03:21:59</td>\n      <td>Bushfire</td>\n      <td>Lane Closures Unknown</td>\n      <td>-32.098161</td>\n      <td>116.012054</td>\n      <td>0.0</td>\n      <td>32.5</td>\n    </tr>\n    <tr>\n      <th>2</th>\n      <td>2017-12-25</td>\n      <td>05:42:00</td>\n      <td>Road Crash</td>\n      <td>Left Lane(s) Blocked</td>\n      <td>-32.201760</td>\n      <td>115.853717</td>\n      <td>0.0</td>\n      <td>32.5</td>\n    </tr>\n    <tr>\n      <th>3</th>\n      <td>2017-12-25</td>\n      <td>06:01:00</td>\n      <td>Break Down / Tow Away</td>\n      <td>All Lanes Open</td>\n      <td>-31.953151</td>\n      <td>115.848371</td>\n      <td>0.0</td>\n      <td>32.5</td>\n    </tr>\n    <tr>\n      <th>4</th>\n      <td>2017-12-25</td>\n      <td>06:17:59</td>\n      <td>Debris / Trees / Lost Loads</td>\n      <td>All Lanes Open</td>\n      <td>-32.062048</td>\n      <td>115.851010</td>\n      <td>0.0</td>\n      <td>32.5</td>\n    </tr>\n    <tr>\n      <th>...</th>\n      <td>...</td>\n      <td>...</td>\n      <td>...</td>\n      <td>...</td>\n      <td>...</td>\n      <td>...</td>\n      <td>...</td>\n      <td>...</td>\n    </tr>\n    <tr>\n      <th>70</th>\n      <td>2017-12-30</td>\n      <td>13:34:59</td>\n      <td>Debris / Trees / Lost Loads</td>\n      <td>All Lanes Open</td>\n      <td>-32.032029</td>\n      <td>115.859519</td>\n      <td>0.0</td>\n      <td>34.7</td>\n    </tr>\n    <tr>\n      <th>71</th>\n      <td>2017-12-30</td>\n      <td>16:11:00</td>\n      <td>Debris / Trees / Lost Loads</td>\n      <td>All Lanes Open</td>\n      <td>-32.148234</td>\n      <td>115.859966</td>\n      <td>0.0</td>\n      <td>34.7</td>\n    </tr>\n    <tr>\n      <th>72</th>\n      <td>2017-12-30</td>\n      <td>20:03:59</td>\n      <td>Road Crash</td>\n      <td>Right Lane(s) Blocked</td>\n      <td>-31.949386</td>\n      <td>115.871415</td>\n      <td>0.0</td>\n      <td>34.7</td>\n    </tr>\n    <tr>\n      <th>73</th>\n      <td>2017-12-30</td>\n      <td>20:03:59</td>\n      <td>Road Crash</td>\n      <td>Right Lane(s) Blocked</td>\n      <td>-31.949386</td>\n      <td>115.871415</td>\n      <td>0.0</td>\n      <td>34.7</td>\n    </tr>\n    <tr>\n      <th>74</th>\n      <td>2017-12-30</td>\n      <td>23:23:00</td>\n      <td>Break Down / Tow Away</td>\n      <td>Right Emergency Lane Blocked</td>\n      <td>-31.927353</td>\n      <td>115.831052</td>\n      <td>0.0</td>\n      <td>34.7</td>\n    </tr>\n  </tbody>\n</table>\n<p>75 rows × 8 columns</p>\n</div>"
     },
     "metadata": {},
     "execution_count": 176
    }
   ],
   "source": [
    "# rearrange Columns\n",
    "combined_df = combined_df[['Date','Time','Incident_Type','TrafficCondition','Lat','Long','Rainfall amount (millimetres)','Maximum temperature (Degree C)']]\n",
    "\n",
    "combined_df"
   ]
  },
  {
   "cell_type": "code",
   "execution_count": null,
   "metadata": {},
   "outputs": [],
   "source": []
  }
 ],
 "metadata": {
  "kernelspec": {
   "display_name": "Python 3",
   "language": "python",
   "name": "python3"
  },
  "language_info": {
   "codemirror_mode": {
    "name": "ipython",
    "version": 3
   },
   "file_extension": ".py",
   "mimetype": "text/x-python",
   "name": "python",
   "nbconvert_exporter": "python",
   "pygments_lexer": "ipython3",
   "version": "3.8.3-final"
  }
 },
 "nbformat": 4,
 "nbformat_minor": 4
}